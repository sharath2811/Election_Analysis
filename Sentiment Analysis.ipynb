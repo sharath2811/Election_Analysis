{
 "cells": [
  {
   "cell_type": "code",
   "execution_count": 3,
   "metadata": {
    "collapsed": false,
    "deletable": true,
    "editable": true
   },
   "outputs": [
    {
     "name": "stdout",
     "output_type": "stream",
     "text": [
      "   Id                                               Text                 Time  \\\n",
      "0   1  rt @chairmannhrc: national #humanrights commis...  2015-02-12 16:44:40   \n",
      "1   2  @ayourb my ward right now. election materials/...  2015-03-28 07:24:52   \n",
      "2   3  inec officials just arrived at 10:30am at nepa...  2015-03-28 09:31:35   \n",
      "3   4  rt @gidi_traffic: \"@vincentwap: election will ...  2015-03-28 07:22:16   \n",
      "4   5  rt @bisialimi: the announcement of the #nigeri...  2015-03-30 15:17:49   \n",
      "\n",
      "   Retweet_count  \n",
      "0              7  \n",
      "1             20  \n",
      "2             12  \n",
      "3              8  \n",
      "4              7  \n"
     ]
    }
   ],
   "source": [
    "import pandas as pd\n",
    "from sklearn import linear_model\n",
    "train = pd.read_csv('train-2.csv')\n",
    "test = pd.read_csv('test-2.csv')\n",
    "print(train.head())"
   ]
  },
  {
   "cell_type": "code",
   "execution_count": 12,
   "metadata": {
    "collapsed": false,
    "deletable": true,
    "editable": true
   },
   "outputs": [
    {
     "name": "stdout",
     "output_type": "stream",
     "text": [
      "   Id                                               Text                 Time  \\\n",
      "0   1  rt @chairmannhrc: national #humanrights commis...  2015-02-12 16:44:40   \n",
      "1   2  @ayourb my ward right now. election materials/...  2015-03-28 07:24:52   \n",
      "2   3  inec officials just arrived at 10:30am at nepa...  2015-03-28 09:31:35   \n",
      "3   4  rt @gidi_traffic: \"@vincentwap: election will ...  2015-03-28 07:22:16   \n",
      "4   5  rt @bisialimi: the announcement of the #nigeri...  2015-03-30 15:17:49   \n",
      "\n",
      "   Retweet_count  word_count  \n",
      "0              7          20  \n",
      "1             20          11  \n",
      "2             12          15  \n",
      "3              8          15  \n",
      "4              7          19  \n"
     ]
    }
   ],
   "source": [
    "print(train.head())"
   ]
  },
  {
   "cell_type": "code",
   "execution_count": 4,
   "metadata": {
    "collapsed": true,
    "deletable": true,
    "editable": true
   },
   "outputs": [],
   "source": [
    "word_count=[]\n",
    "for tweet in train.Text:\n",
    "    word_count.append(len(tweet.split()))"
   ]
  },
  {
   "cell_type": "code",
   "execution_count": 7,
   "metadata": {
    "collapsed": false,
    "deletable": true,
    "editable": true
   },
   "outputs": [
    {
     "name": "stdout",
     "output_type": "stream",
     "text": [
      "2000\n",
      "2000\n"
     ]
    }
   ],
   "source": [
    "train['word_count']=word_count\n",
    "print(len(train.word_count))\n",
    "print(len(train.Retweet_count))"
   ]
  },
  {
   "cell_type": "code",
   "execution_count": 8,
   "metadata": {
    "collapsed": false,
    "deletable": true,
    "editable": true
   },
   "outputs": [
    {
     "name": "stderr",
     "output_type": "stream",
     "text": [
      "/Users/sharathsreenivas/Documents/ProgramFiles/kerasenv/lib/python2.7/site-packages/scipy/linalg/basic.py:884: RuntimeWarning: internal gelsd driver lwork query error, required iwork dimension not returned. This is likely the result of LAPACK bug 0038, fixed in LAPACK 3.2.2 (released July 21, 2010). Falling back to 'gelss' driver.\n",
      "  warnings.warn(mesg, RuntimeWarning)\n"
     ]
    },
    {
     "data": {
      "text/plain": [
       "LinearRegression(copy_X=True, fit_intercept=True, n_jobs=1, normalize=False)"
      ]
     },
     "execution_count": 8,
     "metadata": {},
     "output_type": "execute_result"
    }
   ],
   "source": [
    "lr = linear_model.LinearRegression()\n",
    "lr.fit(train[['word_count','Id']],train.Retweet_count)"
   ]
  },
  {
   "cell_type": "code",
   "execution_count": 9,
   "metadata": {
    "collapsed": true,
    "deletable": true,
    "editable": true
   },
   "outputs": [],
   "source": [
    "word_count=[]\n",
    "for tweet in test.Text:\n",
    "    word_count.append(len(tweet.split()))"
   ]
  },
  {
   "cell_type": "code",
   "execution_count": 10,
   "metadata": {
    "collapsed": true,
    "deletable": true,
    "editable": true
   },
   "outputs": [],
   "source": [
    "test['word_count']=word_count\n",
    "test['prediction']=lr.predict(test[['word_count','Id']])"
   ]
  },
  {
   "cell_type": "code",
   "execution_count": 11,
   "metadata": {
    "collapsed": true,
    "deletable": true,
    "editable": true
   },
   "outputs": [],
   "source": [
    "pd.DataFrame.to_csv(test[['Id','prediction']],'solution.csv',index=False)"
   ]
  },
  {
   "cell_type": "code",
   "execution_count": 13,
   "metadata": {
    "collapsed": false,
    "deletable": true,
    "editable": true
   },
   "outputs": [
    {
     "name": "stdout",
     "output_type": "stream",
     "text": [
      "     Id                                               Text  \\\n",
      "0  2001  rt @oaktvonline: #nigeriadecides: senator mamo...   \n",
      "1  2002  rt @vanguardngrnews: breaking news: no evidenc...   \n",
      "2  2003  rt @eggheader: same woman finally came back wi...   \n",
      "3  2004  rt @apcforchange: .@thisisbuhari lost &amp; i ...   \n",
      "4  2005  #shawttynatt inec chairman officially announce...   \n",
      "\n",
      "                  Time  word_count  prediction  \n",
      "0  2015-04-01 02:13:38          21   24.872724  \n",
      "1  2015-03-30 13:17:39          16   23.094303  \n",
      "2  2015-03-07 10:11:14          16   23.093893  \n",
      "3  2015-02-19 19:24:38          23   25.582699  \n",
      "4  2015-02-07 22:49:35          16   23.093074  \n"
     ]
    }
   ],
   "source": [
    "print(test.head())"
   ]
  },
  {
   "cell_type": "code",
   "execution_count": 32,
   "metadata": {
    "collapsed": true,
    "deletable": true,
    "editable": true
   },
   "outputs": [],
   "source": [
    "from textblob import TextBlob"
   ]
  },
  {
   "cell_type": "code",
   "execution_count": 71,
   "metadata": {
    "collapsed": false,
    "deletable": true,
    "editable": true
   },
   "outputs": [],
   "source": [
    "senti=[]\n",
    "for tweet in test.Text:\n",
    "    senti.append(TextBlob(tweet.decode('utf-8')))"
   ]
  },
  {
   "cell_type": "code",
   "execution_count": 72,
   "metadata": {
    "collapsed": false,
    "deletable": true,
    "editable": true
   },
   "outputs": [],
   "source": [
    "senti_score=[]\n",
    "for tweet in senti:\n",
    "    senti_score.append(tweet.sentiment)"
   ]
  },
  {
   "cell_type": "code",
   "execution_count": 77,
   "metadata": {
    "collapsed": false,
    "deletable": true,
    "editable": true
   },
   "outputs": [
    {
     "name": "stdout",
     "output_type": "stream",
     "text": [
      "     Id                                               Text  \\\n",
      "0  2001  rt @oaktvonline: #nigeriadecides: senator mamo...   \n",
      "1  2002  rt @vanguardngrnews: breaking news: no evidenc...   \n",
      "2  2003  rt @eggheader: same woman finally came back wi...   \n",
      "3  2004  rt @apcforchange: .@thisisbuhari lost &amp; i ...   \n",
      "4  2005  #shawttynatt inec chairman officially announce...   \n",
      "\n",
      "                  Time  word_count  prediction  polarity  subjectivity  \n",
      "0  2015-04-01 02:13:38          21   24.872724  0.000000      0.000000  \n",
      "1  2015-03-30 13:17:39          16   23.094303  0.000000      0.000000  \n",
      "2  2015-03-07 10:11:14          16   23.093893  0.000000      0.375000  \n",
      "3  2015-02-19 19:24:38          23   25.582699  0.642857      0.417857  \n",
      "4  2015-02-07 22:49:35          16   23.093074  0.000000      0.000000  \n"
     ]
    }
   ],
   "source": [
    "print(test.head())"
   ]
  },
  {
   "cell_type": "code",
   "execution_count": 74,
   "metadata": {
    "collapsed": true,
    "deletable": true,
    "editable": true
   },
   "outputs": [],
   "source": [
    "polarity=[]\n",
    "subjectivity=[]\n",
    "for tweet in senti:\n",
    "    polarity.append(tweet.sentiment.polarity)\n",
    "    subjectivity.append(tweet.sentiment.subjectivity)"
   ]
  },
  {
   "cell_type": "code",
   "execution_count": 76,
   "metadata": {
    "collapsed": true,
    "deletable": true,
    "editable": true
   },
   "outputs": [],
   "source": [
    "test['polarity']=polarity\n",
    "test['subjectivity']=subjectivity"
   ]
  },
  {
   "cell_type": "code",
   "execution_count": 79,
   "metadata": {
    "collapsed": true,
    "deletable": true,
    "editable": true
   },
   "outputs": [],
   "source": [
    "pd.DataFrame.to_csv(test,'testing.csv',index=False)"
   ]
  },
  {
   "cell_type": "code",
   "execution_count": null,
   "metadata": {
    "collapsed": true,
    "deletable": true,
    "editable": true
   },
   "outputs": [],
   "source": []
  }
 ],
 "metadata": {
  "kernelspec": {
   "display_name": "Python 2",
   "language": "python",
   "name": "python2"
  },
  "language_info": {
   "codemirror_mode": {
    "name": "ipython",
    "version": 2
   },
   "file_extension": ".py",
   "mimetype": "text/x-python",
   "name": "python",
   "nbconvert_exporter": "python",
   "pygments_lexer": "ipython2",
   "version": "2.7.11"
  }
 },
 "nbformat": 4,
 "nbformat_minor": 2
}
